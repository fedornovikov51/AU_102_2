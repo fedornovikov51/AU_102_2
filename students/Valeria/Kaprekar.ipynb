{
 "cells": [
  {
   "cell_type": "markdown",
   "metadata": {},
   "source": [
    "# Dattaraya Ramchandra Kaprekar\n",
    "# Kaprekar function K(i, k, r); K(6174)=7641-1467=6174\n",
    "# Task 1: implement K(i, k=4, r=10)\n",
    "# Task 2: realize properties of the function\n",
    "# Task 3: investigate family K(i,k,r)"
   ]
  },
  {
   "cell_type": "markdown",
   "metadata": {},
   "source": [
    "#T1 Первое задание: реализовать функцию Капрекара при условии, что число цифр = 4 и основание системы счисления = 10\n",
    "#S1 Простейшее решение на основе определения функции:\n",
    "получить исходное число i и проверить, что оно входит в область определения функции,\n",
    "получить уменьшаемое число i_alpha перестановкой цифр числа i в порядке невозрастания, \n",
    "получить вычитаемое число i_omega перестановкий цифр числа i в порядке неубывания,\n",
    "вычислить разность i_alpha - i_omega.    \n",
    "#Q1 Как представить число i ?\n",
    "#Q2 Как получить числа i_alpha и i_omega ?\n",
    "#Q3 Как вычислить разность i_alpha - i_omega ?"
   ]
  },
  {
   "cell_type": "code",
   "execution_count": null,
   "metadata": {},
   "outputs": [],
   "source": [
    "k = 4 #по условию\n",
    "r = 10 \n",
    "#A1.1 число i представляется целым int \n",
    "#Q1.1.1 как проверить допустимость числа?\n",
    "#A1.1.1 очень просто\n",
    "i = 1234567\n",
    "if 0 <= i & i <= 9999 : \n",
    "    print('Ok', i)\n",
    "else:\n",
    "    print('Invalid', i)\n",
    "# типы в Python динамические :)\n",
    "i = 356.0\n",
    "if (type(i) is int) & (i in range(9999)):\n",
    "    print('Ok', i)\n",
    "else:\n",
    "    print('Invalid', i)\n"
   ]
  },
  {
   "cell_type": "code",
   "execution_count": null,
   "metadata": {},
   "outputs": [],
   "source": [
    "#A1.1 число i представляется целым int \n",
    "#Q1.2 Как получить цифры числа ?\n",
    "#A1.2.1 В лоб вычислить цифры\n",
    "i = 1235\n",
    "d = []\n",
    "for m in range (k):\n",
    "    i,q = divmod(i, r)\n",
    "    print(m,i,q)\n",
    "    d.append(q)\n",
    "print(range(k))\n",
    "print(d)"
   ]
  },
  {
   "cell_type": "code",
   "execution_count": null,
   "metadata": {},
   "outputs": [],
   "source": [
    "#A1.1 исло i представляется целым int\n",
    "#Q1.2 Как получить цифры числа ?\n",
    "#A1.2.2 сериализация в строку\n",
    "i= 3456\n",
    "s =str(i)\n",
    "print(s)\n"
   ]
  },
  {
   "cell_type": "code",
   "execution_count": null,
   "metadata": {},
   "outputs": [],
   "source": [
    "#A1.1 int n\n",
    "#Q1.2 Как получить цифры числа ?\n",
    "#A1.2.2 ++ сериализация не работает с ведущими нулями\n",
    "i = 0456\n",
    "s =str(i)\n",
    "print(s)\n"
   ]
  },
  {
   "cell_type": "code",
   "execution_count": null,
   "metadata": {},
   "outputs": [],
   "source": [
    "#A1.1 int n\n",
    "#Q1.2 Как получить цифры числа ?\n",
    "#A1.2.2 ++ сериализация не работает с ведущими нулями => надо починить\n",
    "i = 456\n",
    "s = str(i)\n",
    "print(s.zfill(k))"
   ]
  },
  {
   "cell_type": "code",
   "execution_count": null,
   "metadata": {},
   "outputs": [],
   "source": [
    "#A 1.1 int n\n",
    "#Q 1.2 Как получить цифры числа ?\n",
    "#A 1.2.3 список\n",
    "i = 56\n",
    "s = str(i).zfill(k)\n",
    "l = list(s)\n",
    "print(l)"
   ]
  },
  {
   "cell_type": "code",
   "execution_count": null,
   "metadata": {},
   "outputs": [],
   "source": [
    "#A 2.1 int n\n",
    "#Q 2.2 Как получить цифры чисел i_alpha i_omega, если цифры числа i в переменных d1, d2, d3, d4 ?\n",
    "#A 2.2.1 сортировка переменных\n",
    "d1=9\n",
    "d2=8\n",
    "d3=7\n",
    "d4=6\n",
    "print(d1,d2,d3,d4)\n",
    "if d1 > d2 :\n",
    "    d1, d2 = d2, d1\n",
    "print(d1,d2,d3,d4)\n",
    "if d2 > d3 :\n",
    "    d2, d3 = d3, d2\n",
    "print(d1,d2,d3,d4)\n",
    "if d3 > d4 :\n",
    "    d3, d4 = d4, d3\n",
    "print(d1,d2,d3,d4)\n",
    "if d1 > d2 :\n",
    "    d1, d2 = d2, d1\n",
    "print(d1,d2,d3,d4)\n",
    "if d2 > d3 :\n",
    "    d2, d3 = d3, d2\n",
    "print(d1,d2,d3,d4)\n",
    "if d1 > d2 :\n",
    "    d1, d2 = d2, d1\n",
    "    \n",
    "print(d1,d2,d3,d4)\n",
    "print(d4,d3,d2,d1)\n"
   ]
  },
  {
   "cell_type": "code",
   "execution_count": null,
   "metadata": {},
   "outputs": [],
   "source": [
    "#A 2.1 int n\n",
    "#Q 2.2 Как получить цифры чисел i_alpha u i_omega, если цифры числа i в списке?\n",
    "#A 2.2.2 сортировка списка\n",
    "d1 = 3\n",
    "d2 = 5\n",
    "d3 = 4\n",
    "d4 = 9\n",
    "l = list([d1,d2, d3, d4])\n",
    "\n",
    "print(l)\n",
    "l.sort()\n",
    "print(l)\n",
    "l.sort(reverse=True)\n",
    "print(l)"
   ]
  },
  {
   "cell_type": "code",
   "execution_count": null,
   "metadata": {},
   "outputs": [],
   "source": [
    "#A 2.1 int n\n",
    "#Q 2.2 Как получить числа i_alpha u i_omega, если цифры в списке?\n",
    "#A 2.2.2 склейка списка в строку и преобразование строки в число\n",
    "print(l)\n",
    "l_alpha = sorted(l,reverse=True)\n",
    "l_omega = sorted(l)\n",
    "i_alpha = l_alpha[0]*1000 + l_alpha[1]*100 + l_alpha[2]*10 + l_alpha[3]\n",
    "i_omega = l_omega[0]*1000 + l_omega[1]*100 + l_omega[2]*10 + l_omega[3]\n",
    "\n",
    "print (i_alpha, i_omega)\n"
   ]
  },
  {
   "cell_type": "code",
   "execution_count": 2,
   "metadata": {},
   "outputs": [
    {
     "name": "stdout",
     "output_type": "stream",
     "text": [
      "0\n",
      "Help on function K in module __main__:\n",
      "\n",
      "K(i, k=4, r=10)\n",
      "    Эту функцию Капрекара написал Олег Григорьев\n",
      "\n"
     ]
    }
   ],
   "source": [
    "# A1 функция Капрекара \n",
    "def K(i, k=4, r=10):\n",
    "    '''Эту функцию Капрекара написал Олег Григорьев'''\n",
    "    if (type(i) is int) & (i in range(r**k)) & \\\n",
    "       (type(k) is int) & (k >= 2) & \\\n",
    "       (type(r) is int) & (r >= 2):\n",
    "        d = []\n",
    "        for m in range (k):\n",
    "            i,q = divmod(i, r)\n",
    "            d.append(q)\n",
    "           \n",
    "        l_alpha = sorted(d,reverse=True)\n",
    "        l_omega = sorted(d)\n",
    "        \n",
    "        def N(l):\n",
    "            n = 0\n",
    "            for m in range (k):\n",
    "                n = n*r + l[m]\n",
    "            return n\n",
    "        \n",
    "        i_alpha = N(l_alpha)\n",
    "        i_omega = N(l_omega)\n",
    "        \n",
    "        return i_alpha - i_omega\n",
    "    else:\n",
    "        return None\n",
    "\n",
    "print(K(0,3,2))\n",
    "help(K)\n"
   ]
  },
  {
   "cell_type": "code",
   "execution_count": 43,
   "metadata": {},
   "outputs": [],
   "source": [
    "import numpy as np\n",
    "import matplotlib.pyplot as plt\n",
    "x = []\n",
    "for i in range(10**4):\n",
    "    x.append(i)\n",
    "y = []\n",
    "for i in ImK(4,10):\n",
    "    y.append(i)\n",
    "plt.plot(x, y)\n",
    "plt.show()\n"
   ]
  },
  {
   "cell_type": "code",
   "execution_count": null,
   "metadata": {},
   "outputs": [],
   "source": [
    "abs(3445 - 5443)"
   ]
  },
  {
   "cell_type": "code",
   "execution_count": null,
   "metadata": {
    "scrolled": false
   },
   "outputs": [],
   "source": [
    "# generator for Im K\n",
    "def ImK (k, r) :\n",
    "    for i in range(r**k) :\n",
    "        yield K(i,k,r)\n",
    "\n",
    "n=0\n",
    "ImK33=ImK(4,4)\n",
    "print(type(ImK33))\n",
    "for m in ImK33 :\n",
    "    n+=1\n",
    "    print(n,m)"
   ]
  },
  {
   "cell_type": "code",
   "execution_count": 6,
   "metadata": {},
   "outputs": [
    {
     "name": "stdout",
     "output_type": "stream",
     "text": [
      "<class 'range'> 10000\n",
      "<class 'generator'> 10000\n",
      "<class 'set'> 55\n",
      "{0, 2178, 4995, 4356, 7173, 6534, 9351, 8712, 3087, 5265, 8082, 7443, 9621, 3996, 6174, 8991, 8352, 2088, 4266, 7083, 6444, 9261, 8622, 2997, 5175, 7992, 7353, 9531, 1089, 3267, 6084, 5445, 8262, 7623, 9801, 1998, 4176, 6993, 6354, 9171, 8532, 5085, 7263, 9441, 999, 3177, 5994, 5355, 8172, 7533, 9711, 4086, 6264, 9081, 8442}\n",
      "{0, 7173, 3087, 5265, 8082, 7443, 9621, 3996, 6174, 8991, 8352, 7992, 1089, 1998, 4176, 6354, 8532, 5994, 5355, 8172, 6264}\n",
      "{0, 7173, 3087, 5265, 8082, 7443, 9621, 3996, 6174, 8991, 8352, 7992, 1089, 1998, 4176, 6354, 8532, 5994, 5355, 8172, 6264}\n",
      "{0, 8352, 7173, 5355, 1998, 3087, 4176, 6354, 8082, 8532, 9621, 7443, 6264, 3996, 6174}\n",
      "{0, 8352, 1998, 3087, 4176, 6354, 8082, 8532, 6264, 3996, 6174}\n",
      "{0, 8352, 3087, 4176, 8082, 8532, 6264, 6174}\n",
      "{0, 8352, 4176, 8532, 6174}\n",
      "{0, 6174}\n"
     ]
    }
   ],
   "source": [
    "# generator for Im \n",
    "def G_Im (f, Dom) :\n",
    "    for i in Dom :\n",
    "        yield f(i)\n",
    "\n",
    "r_4_10 = range(10**4)\n",
    "print(type(r_4_10), len(r_4_10))\n",
    "GK_4_10 = G_Im(K,r_4_10)\n",
    "print(type(GK_4_10), len(r_4_10))\n",
    "Im_K_4_10 = set(GK_4_10)\n",
    "print(type(Im_K_4_10), len(Im_K_4_10))\n",
    "\n",
    "level1 = set(G_Im(K, range(10**4)))\n",
    "print(level1)\n",
    "\n",
    "level2 = set(G_Im(K, level1))\n",
    "print(level2)\n",
    "level = set(G_Im(K, range(10**4)))\n",
    "while(level != set(G_Im(K, level))):\n",
    "    level = set(G_Im(K, level))\n",
    "    print(level)"
   ]
  },
  {
   "cell_type": "code",
   "execution_count": null,
   "metadata": {},
   "outputs": [],
   "source": [
    "# ничего не понятно => необходимо нарисовать картинку! :)\n",
    "import matplotlib as mpl\n",
    "#help(mpl)\n",
    "import matplotlib.pyplot as plt\n",
    "help(plt)"
   ]
  },
  {
   "cell_type": "code",
   "execution_count": null,
   "metadata": {},
   "outputs": [],
   "source": [
    "import numpy as np\n",
    "import matplotlib.pyplot as plt\n",
    "    \n",
    "x = np.arange(0, 5, 0.1)\n",
    "y = np.sin(x)\n",
    "plt.plot(x, y) \n",
    "print(x)\n",
    "print(y)"
   ]
  }
 ],
 "metadata": {
  "kernelspec": {
   "display_name": "Python 3",
   "language": "python",
   "name": "python3"
  },
  "language_info": {
   "codemirror_mode": {
    "name": "ipython",
    "version": 3
   },
   "file_extension": ".py",
   "mimetype": "text/x-python",
   "name": "python",
   "nbconvert_exporter": "python",
   "pygments_lexer": "ipython3",
   "version": "3.7.3"
  }
 },
 "nbformat": 4,
 "nbformat_minor": 4
}
